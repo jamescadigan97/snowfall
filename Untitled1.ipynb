{
 "cells": [
  {
   "cell_type": "code",
   "execution_count": null,
   "metadata": {},
   "outputs": [],
   "source": [
    "epic_href = ['/trentino/pontedilegno-tonale-adamello-ski/skireport.html','/british-columbia/kicking-horse/skireport.html','/trentino/madonna-di-campiglio/skireport.html','/washington/stevens-pass-resort/skireport.html','/trentino/pinzolo/skireport.html',\\\n",
    "             '/british-columbia/whistler-blackcomb/skireport.html','/british-columbia/fernie-alpine/skireport.html','/northern-alps/val-thorens/skireport.html','/california/heavenly-mountain-resort/skireport.html','/valais/nendaz/skireport.html',\\\n",
    "             '/valais/thyon-2000/skireport.html','/valais/veysonnaz/skireport.html','/trentino/monte-bondone/skireport.html', '/valais/verbier/skireport.html','/alberta/nakiska-ski-area/skireport.html',\\\n",
    "             '/trentino/folgaria/skireport.html','/vermont/stowe-mountain-resort/skireport.html','/northern-alps/meribel/skireport.html','/california/northstar-california/skireport.html','/idaho/sun-valley/skireport.html',\\\n",
    "             '/california/kirkwood/skireport.html','/utah/snowbasin/skireport.html','/colorado/crested-butte-mountain-resort/skireport.html','/colorado/telluride/skireport.html','/colorado/vail/skireport.html',\\\n",
    "             '/colorado/breckenridge/skireport.html','/colorado/keystone/skirvaeport.html','/michigan/mount-brighton/skireport.html','/minnesota/afton-alps/skireport.html','/british-columbia/kimberley/skireport.html',\\\n",
    "             '/trentino/andalo-fai-della-paganella/skireport.html','/utah/park-city-mountain-resort/skireport.html','/colorado/beaver-creek/skireport.html','/wisconsin/wilmot-mountain/skireport.html','/northern-alps/les-menuires/skireport.html',\\\n",
    "             '/new-hampshire/mount-sunapee/skireport.html','/vermont/okemo-mountain-resort/skireport.html','/quebec/stoneham/skireport.html','/northern-alps/courchevel/skireport.html','/australia/perisher/skireport.html',\\\n",
    "             '/australia/falls-creek-alpine-resort/skireport.html','/australia/mt-hotham/skireport.html','/northern-alps/la-tania/skireport.html','/northern-alps/saint-martin-de-belleville/skireport.html','/northern-alps/brides-les-bains/skireport.html',\\\n",
    "             '/northern-alps/orelle/skireport.html','/quebec/mont-sainte-anne/skireport.html','/trentino/folgarida-marilleva/skireport.html','/trentino/pejo/skireport.html','/new-hampshire/attitash/skireport.html','/vermont/mount-snow/skireport.html',\\\n",
    "            '/new-hampshire/crotched-mountain/skireport.html','/pennsylvania/liberty/skireport.html','/pennsylvania/roundtop-mountain-resort/skireport.html','/pennsylvania/jack-frost/skireport.html',\\\n",
    "            '/pennsylvania/whitetail-resort/skireport.html','/new-hampshire/wildcat-mountain/skireport.html','pennsylnia/big-boulder/skireport.html','wisconsin/alpine-valley-resort/skireport.html',\\\n",
    "            '/ohio/boston-mills/skireport.html','/ohio/brandywine/skireport.html','/ohio/mad-river-mountain/skireport.html','/pennsylvania/hidden-valley-resort/skireport.html','/missouri/snow-creek/skireport.html']"
   ]
  },
  {
   "cell_type": "code",
   "execution_count": null,
   "metadata": {},
   "outputs": [],
   "source": [
    "#break\n",
    "ikon_href = ['/british-columbia/cypress-mountain/skireport.html','/british-columbia/revelstoke-mountain/skireport.html','/wyoming/jackson-hole/skireport.html','/oregon/mt-bachelor/skireport.html',\\\n",
    "             '/california/squaw-valley-usa/skireport.html','/washington/crystal-mountain-wa/skireport.html','/vermont/sugarbush/skireport.html','/west-virginia/snowshoe-mountain-resort/skireport.html',\\\n",
    "            '/utah/snowbird/skireport.html','/washington/the-summit-at-snoqualmie/skireport.html','/utah/alta-ski-area/skireport.html','/michigan/boyne-highlands/skireport.html',\\\n",
    "            '/colorado/winter-park-resort/skireport.html','/california/bear-mountain/skireport.html','/california/snow-summit/skireport.html','/colorado/steamboat/skireport.html',\\\n",
    "            '/alberta/ski-banff-norquay/skireport.html','/colorado/aspen-snowmass/skireport.html','/montana/big-sky-resort/skireport.html','/utah/brighton-resort/skireport.html',\\\n",
    "            '/california/mammoth-mountain-ski-area/skireport.html','/utah/solitude-mountain-resort/skireport.html','/colorado/arapahoe-basin-ski-area/skireport.html','/new-hampshire/loon-mountain/skireport.html',\\\n",
    "            '/vermont/killington-resort/skireport.html','/alberta/sunshine-village/skireport.html','/alberta/lake-louise/skireport.html','/colorado/copper-mountain-resort/skireport.html',\\\n",
    "            '/new-york/windham-mountain/skireport.html','/utah/deer-valley-resort/skireport.html','/vermont/stratton-mountain/skireport.html','/ontario/blue-mountain/skireport.html',\\\n",
    "            '/michigan/boyne-mountain-resort/skireport.html','/colorado/eldora-mountain-resort/skireport.html','/maine/sugarloaf/skireport.html','/maine/sunday-river/skireport.html',\\\n",
    "            '/australia/thredbo-alpine-resort/skireport.html','/australia/mt-buller/skireport.html','/california/june-mountain/skireport.html','/new-mexico/taos-ski-valley/skireport.html',\\\n",
    "            '/quebec/tremblant/skireport.html','/big-bear-lake/skireport.html','/chile/valle-nevado/skireport.html','/new-zealand/coronet-peak/skireport.html','/new-zealand/the-remarkables/skireport.html','/new-zealand/mt-hutt-ski-area/skireport.html']\n"
   ]
  }
 ],
 "metadata": {
  "kernelspec": {
   "display_name": "Python 3",
   "language": "python",
   "name": "python3"
  },
  "language_info": {
   "codemirror_mode": {
    "name": "ipython",
    "version": 3
   },
   "file_extension": ".py",
   "mimetype": "text/x-python",
   "name": "python",
   "nbconvert_exporter": "python",
   "pygments_lexer": "ipython3",
   "version": "3.7.6"
  }
 },
 "nbformat": 4,
 "nbformat_minor": 4
}
